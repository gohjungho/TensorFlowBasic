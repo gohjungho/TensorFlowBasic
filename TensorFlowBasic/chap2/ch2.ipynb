{
 "cells": [
  {
   "cell_type": "code",
   "execution_count": 1,
   "metadata": {},
   "outputs": [
    {
     "name": "stdout",
     "output_type": "stream",
     "text": [
      "Collecting tensorflow\n",
      "  Downloading tensorflow-2.5.0-cp38-cp38-win_amd64.whl (422.6 MB)\n",
      "Collecting astunparse~=1.6.3\n",
      "  Downloading astunparse-1.6.3-py2.py3-none-any.whl (12 kB)\n",
      "Collecting absl-py~=0.10\n",
      "  Downloading absl_py-0.12.0-py3-none-any.whl (129 kB)\n",
      "Collecting tensorboard~=2.5\n",
      "  Downloading tensorboard-2.5.0-py3-none-any.whl (6.0 MB)\n",
      "Collecting wrapt~=1.12.1\n",
      "  Downloading wrapt-1.12.1.tar.gz (27 kB)\n",
      "Collecting gast==0.4.0\n",
      "  Downloading gast-0.4.0-py3-none-any.whl (9.8 kB)\n",
      "Collecting google-pasta~=0.2\n",
      "  Downloading google_pasta-0.2.0-py3-none-any.whl (57 kB)\n",
      "Requirement already satisfied: numpy~=1.19.2 in c:\\users\\82109\\anaconda3\\lib\\site-packages (from tensorflow) (1.19.2)\n",
      "Collecting grpcio~=1.34.0\n",
      "  Downloading grpcio-1.34.1-cp38-cp38-win_amd64.whl (2.9 MB)\n",
      "Collecting h5py~=3.1.0\n",
      "  Downloading h5py-3.1.0-cp38-cp38-win_amd64.whl (2.7 MB)\n",
      "Collecting termcolor~=1.1.0\n",
      "  Downloading termcolor-1.1.0.tar.gz (3.9 kB)\n",
      "Collecting keras-preprocessing~=1.1.2\n",
      "  Downloading Keras_Preprocessing-1.1.2-py2.py3-none-any.whl (42 kB)\n",
      "Requirement already satisfied: typing-extensions~=3.7.4 in c:\\users\\82109\\anaconda3\\lib\\site-packages (from tensorflow) (3.7.4.3)\n",
      "Requirement already satisfied: six~=1.15.0 in c:\\users\\82109\\anaconda3\\lib\\site-packages (from tensorflow) (1.15.0)\n",
      "Collecting flatbuffers~=1.12.0\n",
      "  Downloading flatbuffers-1.12-py2.py3-none-any.whl (15 kB)\n",
      "Collecting keras-nightly~=2.5.0.dev\n",
      "  Downloading keras_nightly-2.5.0.dev2021032900-py2.py3-none-any.whl (1.2 MB)\n",
      "Collecting opt-einsum~=3.3.0\n",
      "  Downloading opt_einsum-3.3.0-py3-none-any.whl (65 kB)\n",
      "Collecting tensorflow-estimator<2.6.0,>=2.5.0rc0\n",
      "  Downloading tensorflow_estimator-2.5.0-py2.py3-none-any.whl (462 kB)\n",
      "Requirement already satisfied: wheel~=0.35 in c:\\users\\82109\\anaconda3\\lib\\site-packages (from tensorflow) (0.35.1)\n",
      "Collecting protobuf>=3.9.2\n",
      "  Downloading protobuf-3.17.3-py2.py3-none-any.whl (173 kB)\n",
      "Collecting tensorboard-data-server<0.7.0,>=0.6.0\n",
      "  Downloading tensorboard_data_server-0.6.1-py3-none-any.whl (2.4 kB)\n",
      "Requirement already satisfied: werkzeug>=0.11.15 in c:\\users\\82109\\anaconda3\\lib\\site-packages (from tensorboard~=2.5->tensorflow) (1.0.1)\n",
      "Collecting google-auth-oauthlib<0.5,>=0.4.1\n",
      "  Downloading google_auth_oauthlib-0.4.4-py2.py3-none-any.whl (18 kB)\n",
      "Collecting tensorboard-plugin-wit>=1.6.0\n",
      "  Downloading tensorboard_plugin_wit-1.8.0-py3-none-any.whl (781 kB)\n",
      "Requirement already satisfied: setuptools>=41.0.0 in c:\\users\\82109\\anaconda3\\lib\\site-packages (from tensorboard~=2.5->tensorflow) (50.3.1.post20201107)\n",
      "Collecting google-auth<2,>=1.6.3\n",
      "  Downloading google_auth-1.31.0-py2.py3-none-any.whl (147 kB)\n",
      "Requirement already satisfied: requests<3,>=2.21.0 in c:\\users\\82109\\anaconda3\\lib\\site-packages (from tensorboard~=2.5->tensorflow) (2.24.0)\n",
      "Collecting markdown>=2.6.8\n",
      "  Downloading Markdown-3.3.4-py3-none-any.whl (97 kB)\n",
      "Collecting requests-oauthlib>=0.7.0\n",
      "  Downloading requests_oauthlib-1.3.0-py2.py3-none-any.whl (23 kB)\n",
      "Collecting pyasn1-modules>=0.2.1\n",
      "  Downloading pyasn1_modules-0.2.8-py2.py3-none-any.whl (155 kB)\n",
      "Collecting cachetools<5.0,>=2.0.0\n",
      "  Downloading cachetools-4.2.2-py3-none-any.whl (11 kB)\n",
      "Collecting rsa<5,>=3.1.4; python_version >= \"3.6\"\n",
      "  Downloading rsa-4.7.2-py3-none-any.whl (34 kB)\n",
      "Requirement already satisfied: urllib3!=1.25.0,!=1.25.1,<1.26,>=1.21.1 in c:\\users\\82109\\anaconda3\\lib\\site-packages (from requests<3,>=2.21.0->tensorboard~=2.5->tensorflow) (1.25.11)\n",
      "Requirement already satisfied: idna<3,>=2.5 in c:\\users\\82109\\anaconda3\\lib\\site-packages (from requests<3,>=2.21.0->tensorboard~=2.5->tensorflow) (2.10)\n",
      "Requirement already satisfied: chardet<4,>=3.0.2 in c:\\users\\82109\\anaconda3\\lib\\site-packages (from requests<3,>=2.21.0->tensorboard~=2.5->tensorflow) (3.0.4)\n",
      "Requirement already satisfied: certifi>=2017.4.17 in c:\\users\\82109\\anaconda3\\lib\\site-packages (from requests<3,>=2.21.0->tensorboard~=2.5->tensorflow) (2020.6.20)\n",
      "Collecting oauthlib>=3.0.0\n",
      "  Downloading oauthlib-3.1.1-py2.py3-none-any.whl (146 kB)\n",
      "Collecting pyasn1<0.5.0,>=0.4.6\n",
      "  Downloading pyasn1-0.4.8-py2.py3-none-any.whl (77 kB)\n",
      "Building wheels for collected packages: wrapt, termcolor\n",
      "  Building wheel for wrapt (setup.py): started\n",
      "  Building wheel for wrapt (setup.py): finished with status 'done'\n",
      "  Created wheel for wrapt: filename=wrapt-1.12.1-py3-none-any.whl size=19558 sha256=890c1b6ee8d83c76ec5093c4c8ecf93bf3969bc399546c0823bd57d0e018892f\n",
      "  Stored in directory: c:\\users\\82109\\appdata\\local\\pip\\cache\\wheels\\5f\\fd\\9e\\b6cf5890494cb8ef0b5eaff72e5d55a70fb56316007d6dfe73\n",
      "  Building wheel for termcolor (setup.py): started\n",
      "  Building wheel for termcolor (setup.py): finished with status 'done'\n",
      "  Created wheel for termcolor: filename=termcolor-1.1.0-py3-none-any.whl size=4835 sha256=1f19c0cddce9881cad0870cf846ad1f3e6cfdd5df3677a0cc8e9d38229aaffca\n",
      "  Stored in directory: c:\\users\\82109\\appdata\\local\\pip\\cache\\wheels\\a0\\16\\9c\\5473df82468f958445479c59e784896fa24f4a5fc024b0f501\n",
      "Successfully built wrapt termcolor\n",
      "Installing collected packages: astunparse, absl-py, tensorboard-data-server, oauthlib, requests-oauthlib, pyasn1, pyasn1-modules, cachetools, rsa, google-auth, google-auth-oauthlib, protobuf, tensorboard-plugin-wit, markdown, grpcio, tensorboard, wrapt, gast, google-pasta, h5py, termcolor, keras-preprocessing, flatbuffers, keras-nightly, opt-einsum, tensorflow-estimator, tensorflow\n",
      "  Attempting uninstall: wrapt\n",
      "    Found existing installation: wrapt 1.11.2\n",
      "    Uninstalling wrapt-1.11.2:\n",
      "      Successfully uninstalled wrapt-1.11.2\n",
      "  Attempting uninstall: h5py\n",
      "    Found existing installation: h5py 2.10.0\n",
      "    Uninstalling h5py-2.10.0:\n",
      "      Successfully uninstalled h5py-2.10.0\n",
      "Successfully installed absl-py-0.12.0 astunparse-1.6.3 cachetools-4.2.2 flatbuffers-1.12 gast-0.4.0 google-auth-1.31.0 google-auth-oauthlib-0.4.4 google-pasta-0.2.0 grpcio-1.34.1 h5py-3.1.0 keras-nightly-2.5.0.dev2021032900 keras-preprocessing-1.1.2 markdown-3.3.4 oauthlib-3.1.1 opt-einsum-3.3.0 protobuf-3.17.3 pyasn1-0.4.8 pyasn1-modules-0.2.8 requests-oauthlib-1.3.0 rsa-4.7.2 tensorboard-2.5.0 tensorboard-data-server-0.6.1 tensorboard-plugin-wit-1.8.0 tensorflow-2.5.0 tensorflow-estimator-2.5.0 termcolor-1.1.0 wrapt-1.12.1\n"
     ]
    }
   ],
   "source": [
    "!pip install tensorflow"
   ]
  },
  {
   "cell_type": "code",
   "execution_count": 5,
   "metadata": {},
   "outputs": [],
   "source": [
    "import tensorflow as tf # 머신러닝 라이브러리 \n",
    "import numpy as np # 계산 라이브러리 \n",
    "import pandas as pd # 데이터 분석용 라이브러리 \n",
    "import matplotlib.pyplot as plt # 그림그리기 라이브러리 \n",
    "# % matplotlib inline # 웹상에서 그림 잘 그리기 위함 (로컬은 필요없음)\n",
    "import seaborn as sns # 그림그리기 2 라이브러리. 그림 예쁘게 그리기 \n",
    "sns.set(style=\"darkgrid\")"
   ]
  },
  {
   "cell_type": "code",
   "execution_count": 6,
   "metadata": {},
   "outputs": [
    {
     "name": "stdout",
     "output_type": "stream",
     "text": [
      "2.5.0\n"
     ]
    }
   ],
   "source": [
    "print(tf.__version__)"
   ]
  },
  {
   "cell_type": "code",
   "execution_count": 14,
   "metadata": {},
   "outputs": [],
   "source": [
    "cols = ['price', 'maint', 'doors', 'persons', 'lug_capacity', 'safety', 'output']\n",
    "cars = pd.read_csv('data/car_evaluation.csv', names=cols, header=None)"
   ]
  },
  {
   "cell_type": "code",
   "execution_count": 15,
   "metadata": {},
   "outputs": [
    {
     "data": {
      "text/html": [
       "<div>\n",
       "<style scoped>\n",
       "    .dataframe tbody tr th:only-of-type {\n",
       "        vertical-align: middle;\n",
       "    }\n",
       "\n",
       "    .dataframe tbody tr th {\n",
       "        vertical-align: top;\n",
       "    }\n",
       "\n",
       "    .dataframe thead th {\n",
       "        text-align: right;\n",
       "    }\n",
       "</style>\n",
       "<table border=\"1\" class=\"dataframe\">\n",
       "  <thead>\n",
       "    <tr style=\"text-align: right;\">\n",
       "      <th></th>\n",
       "      <th>price</th>\n",
       "      <th>maint</th>\n",
       "      <th>doors</th>\n",
       "      <th>persons</th>\n",
       "      <th>lug_capacity</th>\n",
       "      <th>safety</th>\n",
       "      <th>output</th>\n",
       "    </tr>\n",
       "  </thead>\n",
       "  <tbody>\n",
       "    <tr>\n",
       "      <th>0</th>\n",
       "      <td>vhigh</td>\n",
       "      <td>vhigh</td>\n",
       "      <td>2</td>\n",
       "      <td>2</td>\n",
       "      <td>small</td>\n",
       "      <td>low</td>\n",
       "      <td>unacc</td>\n",
       "    </tr>\n",
       "    <tr>\n",
       "      <th>1</th>\n",
       "      <td>vhigh</td>\n",
       "      <td>vhigh</td>\n",
       "      <td>2</td>\n",
       "      <td>2</td>\n",
       "      <td>small</td>\n",
       "      <td>med</td>\n",
       "      <td>unacc</td>\n",
       "    </tr>\n",
       "    <tr>\n",
       "      <th>2</th>\n",
       "      <td>vhigh</td>\n",
       "      <td>vhigh</td>\n",
       "      <td>2</td>\n",
       "      <td>2</td>\n",
       "      <td>small</td>\n",
       "      <td>high</td>\n",
       "      <td>unacc</td>\n",
       "    </tr>\n",
       "    <tr>\n",
       "      <th>3</th>\n",
       "      <td>vhigh</td>\n",
       "      <td>vhigh</td>\n",
       "      <td>2</td>\n",
       "      <td>2</td>\n",
       "      <td>med</td>\n",
       "      <td>low</td>\n",
       "      <td>unacc</td>\n",
       "    </tr>\n",
       "    <tr>\n",
       "      <th>4</th>\n",
       "      <td>vhigh</td>\n",
       "      <td>vhigh</td>\n",
       "      <td>2</td>\n",
       "      <td>2</td>\n",
       "      <td>med</td>\n",
       "      <td>med</td>\n",
       "      <td>unacc</td>\n",
       "    </tr>\n",
       "  </tbody>\n",
       "</table>\n",
       "</div>"
      ],
      "text/plain": [
       "   price  maint doors persons lug_capacity safety output\n",
       "0  vhigh  vhigh     2       2        small    low  unacc\n",
       "1  vhigh  vhigh     2       2        small    med  unacc\n",
       "2  vhigh  vhigh     2       2        small   high  unacc\n",
       "3  vhigh  vhigh     2       2          med    low  unacc\n",
       "4  vhigh  vhigh     2       2          med    med  unacc"
      ]
     },
     "execution_count": 15,
     "metadata": {},
     "output_type": "execute_result"
    }
   ],
   "source": [
    "cars.head()"
   ]
  },
  {
   "cell_type": "code",
   "execution_count": 17,
   "metadata": {},
   "outputs": [
    {
     "data": {
      "text/plain": [
       "<AxesSubplot:ylabel='output'>"
      ]
     },
     "execution_count": 17,
     "metadata": {},
     "output_type": "execute_result"
    },
    {
     "data": {
      "image/png": "[encoded data removed]",
      "text/plain": [
       "<Figure size 576x432 with 1 Axes>"
      ]
     },
     "metadata": {},
     "output_type": "display_data"
    }
   ],
   "source": [
    "plot_size = plt.rcParams[\"figure.figsize\"]\n",
    "plot_size[0] = 8\n",
    "plot_size[1] = 6\n",
    "plt.rcParams['figure.figsize'] = plot_size\n",
    "cars.output.value_counts().plot(kind = 'pie', autopct = '%0.02f%%', \n",
    "                                colors = ['lightblue', 'lightgreen', 'orange', 'pink'],\n",
    "                                explode = (0.05, 0.05, 0.05, 0.05))"
   ]
  },
  {
   "cell_type": "code",
   "execution_count": 24,
   "metadata": {},
   "outputs": [],
   "source": [
    "# 원-핫 인코딩 적용 \n",
    "price = pd.get_dummies(cars.price, prefix = 'price')\n",
    "maint = pd.get_dummies(cars.maint, prefix = 'maint')\n",
    "\n",
    "doors = pd.get_dummies(cars.doors, prefix = 'doors')\n",
    "persons = pd.get_dummies(cars.persons, prefix = 'persons')\n",
    "\n",
    "lug_capacity = pd.get_dummies(cars.lug_capacity, prefix = 'lug_capacity')\n",
    "safety = pd.get_dummies(cars.safety, prefix = 'safety')\n",
    "\n",
    "labels = pd.get_dummies(cars.output, prefix = 'condition')\n",
    "\n",
    "X = pd.concat([price, maint, doors, persons, lug_capacity, safety], axis = 1)\n",
    "y = labels.values # 레이블을 넘파이 배열로 변환 "
   ]
  },
  {
   "cell_type": "code",
   "execution_count": 21,
   "metadata": {},
   "outputs": [],
   "source": [
    "# 20%를 검증 데이터셋으로 지정하기 \n",
    "from sklearn.model_selection import train_test_split\n",
    "X_train, X_test, y_train, y_test = train_test_split(X, y, test_size = 0.20, random_state = 42)"
   ]
  },
  {
   "cell_type": "code",
   "execution_count": 27,
   "metadata": {},
   "outputs": [
    {
     "name": "stdout",
     "output_type": "stream",
     "text": [
      "Model: \"model\"\n",
      "_________________________________________________________________\n",
      "Layer (type)                 Output Shape              Param #   \n",
      "=================================================================\n",
      "input_2 (InputLayer)         [(None, 21)]              0         \n",
      "_________________________________________________________________\n",
      "dense_2 (Dense)              (None, 15)                330       \n",
      "_________________________________________________________________\n",
      "dense_3 (Dense)              (None, 10)                160       \n",
      "_________________________________________________________________\n",
      "dense_4 (Dense)              (None, 4)                 44        \n",
      "=================================================================\n",
      "Total params: 534\n",
      "Trainable params: 534\n",
      "Non-trainable params: 0\n",
      "_________________________________________________________________\n"
     ]
    }
   ],
   "source": [
    "# 모델 생성 및 컴파일 \n",
    "from tensorflow.keras.layers import Input, Dense, Activation, Dropout\n",
    "from tensorflow.keras.models import Model \n",
    "\n",
    "input_layer = Input(shape = (X.shape[1],))\n",
    "dense_layer_1 = Dense(15, activation = 'relu')(input_layer)\n",
    "dense_layer_2 = Dense(10, activation = 'relu')(dense_layer_1)\n",
    "output = Dense(y.shape[1], activation = 'softmax')(dense_layer_2)\n",
    "\n",
    "model = Model(inputs = input_layer, outputs = output)\n",
    "\n",
    "model.compile(loss = 'categorical_crossentropy', optimizer = 'adam', metrics = ['acc'])\n",
    "\n",
    "model.summary()"
   ]
  },
  {
   "cell_type": "code",
   "execution_count": 28,
   "metadata": {},
   "outputs": [
    {
     "name": "stdout",
     "output_type": "stream",
     "text": [
      "Epoch 1/50\n",
      "139/139 [==============================] - 1s 3ms/step - loss: 1.2413 - acc: 0.4914 - val_loss: 0.9091 - val_acc: 0.6570\n",
      "Epoch 2/50\n",
      "139/139 [==============================] - 0s 1ms/step - loss: 0.7072 - acc: 0.7276 - val_loss: 0.6856 - val_acc: 0.6751\n",
      "Epoch 3/50\n",
      "139/139 [==============================] - 0s 1ms/step - loss: 0.5093 - acc: 0.7747 - val_loss: 0.5426 - val_acc: 0.7581\n",
      "Epoch 4/50\n",
      "139/139 [==============================] - 0s 1ms/step - loss: 0.3938 - acc: 0.8525 - val_loss: 0.4350 - val_acc: 0.8231\n",
      "Epoch 5/50\n",
      "139/139 [==============================] - 0s 1ms/step - loss: 0.3198 - acc: 0.8805 - val_loss: 0.3588 - val_acc: 0.8484\n",
      "Epoch 6/50\n",
      "139/139 [==============================] - 0s 1ms/step - loss: 0.2673 - acc: 0.8968 - val_loss: 0.3024 - val_acc: 0.8773\n",
      "Epoch 7/50\n",
      "139/139 [==============================] - 0s 1ms/step - loss: 0.2281 - acc: 0.9149 - val_loss: 0.2672 - val_acc: 0.8953\n",
      "Epoch 8/50\n",
      "139/139 [==============================] - 0s 1ms/step - loss: 0.2058 - acc: 0.9249 - val_loss: 0.2466 - val_acc: 0.8953\n",
      "Epoch 9/50\n",
      "139/139 [==============================] - 0s 1ms/step - loss: 0.1826 - acc: 0.9385 - val_loss: 0.2279 - val_acc: 0.9097\n",
      "Epoch 10/50\n",
      "139/139 [==============================] - 0s 1ms/step - loss: 0.1678 - acc: 0.9430 - val_loss: 0.2071 - val_acc: 0.9314\n",
      "Epoch 11/50\n",
      "139/139 [==============================] - 0s 1ms/step - loss: 0.1540 - acc: 0.9502 - val_loss: 0.1981 - val_acc: 0.9278\n",
      "Epoch 12/50\n",
      "139/139 [==============================] - 0s 1ms/step - loss: 0.1448 - acc: 0.9538 - val_loss: 0.1915 - val_acc: 0.9422\n",
      "Epoch 13/50\n",
      "139/139 [==============================] - 0s 1ms/step - loss: 0.1380 - acc: 0.9538 - val_loss: 0.1791 - val_acc: 0.9314\n",
      "Epoch 14/50\n",
      "139/139 [==============================] - 0s 1ms/step - loss: 0.1287 - acc: 0.9511 - val_loss: 0.1860 - val_acc: 0.9242\n",
      "Epoch 15/50\n",
      "139/139 [==============================] - 0s 2ms/step - loss: 0.1201 - acc: 0.9665 - val_loss: 0.1668 - val_acc: 0.9386\n",
      "Epoch 16/50\n",
      "139/139 [==============================] - 0s 1ms/step - loss: 0.1145 - acc: 0.9692 - val_loss: 0.1610 - val_acc: 0.9495\n",
      "Epoch 17/50\n",
      "139/139 [==============================] - 0s 1ms/step - loss: 0.1108 - acc: 0.9656 - val_loss: 0.1532 - val_acc: 0.9422\n",
      "Epoch 18/50\n",
      "139/139 [==============================] - 0s 1ms/step - loss: 0.1050 - acc: 0.9656 - val_loss: 0.1614 - val_acc: 0.9386\n",
      "Epoch 19/50\n",
      "139/139 [==============================] - 0s 1ms/step - loss: 0.0990 - acc: 0.9747 - val_loss: 0.1448 - val_acc: 0.9531\n",
      "Epoch 20/50\n",
      "139/139 [==============================] - 0s 1ms/step - loss: 0.0943 - acc: 0.9747 - val_loss: 0.1533 - val_acc: 0.9386\n",
      "Epoch 21/50\n",
      "139/139 [==============================] - 0s 1ms/step - loss: 0.0920 - acc: 0.9756 - val_loss: 0.1559 - val_acc: 0.9314\n",
      "Epoch 22/50\n",
      "139/139 [==============================] - 0s 1ms/step - loss: 0.0895 - acc: 0.9765 - val_loss: 0.1303 - val_acc: 0.9639\n",
      "Epoch 23/50\n",
      "139/139 [==============================] - 0s 1ms/step - loss: 0.0816 - acc: 0.9765 - val_loss: 0.1209 - val_acc: 0.9603\n",
      "Epoch 24/50\n",
      "139/139 [==============================] - 0s 1ms/step - loss: 0.0793 - acc: 0.9810 - val_loss: 0.1171 - val_acc: 0.9711\n",
      "Epoch 25/50\n",
      "139/139 [==============================] - 0s 1ms/step - loss: 0.0756 - acc: 0.9783 - val_loss: 0.1153 - val_acc: 0.9747\n",
      "Epoch 26/50\n",
      "139/139 [==============================] - 0s 1ms/step - loss: 0.0716 - acc: 0.9792 - val_loss: 0.1197 - val_acc: 0.9711\n",
      "Epoch 27/50\n",
      "139/139 [==============================] - 0s 1ms/step - loss: 0.0683 - acc: 0.9792 - val_loss: 0.1115 - val_acc: 0.9747\n",
      "Epoch 28/50\n",
      "139/139 [==============================] - 0s 1ms/step - loss: 0.0647 - acc: 0.9828 - val_loss: 0.1112 - val_acc: 0.9747\n",
      "Epoch 29/50\n",
      "139/139 [==============================] - 0s 1ms/step - loss: 0.0632 - acc: 0.9828 - val_loss: 0.1085 - val_acc: 0.9711\n",
      "Epoch 30/50\n",
      "139/139 [==============================] - 0s 1ms/step - loss: 0.0583 - acc: 0.9855 - val_loss: 0.1083 - val_acc: 0.9747\n",
      "Epoch 31/50\n",
      "139/139 [==============================] - 0s 1ms/step - loss: 0.0556 - acc: 0.9846 - val_loss: 0.1009 - val_acc: 0.9783\n",
      "Epoch 32/50\n",
      "139/139 [==============================] - 0s 1ms/step - loss: 0.0542 - acc: 0.9855 - val_loss: 0.1062 - val_acc: 0.9675\n",
      "Epoch 33/50\n",
      "139/139 [==============================] - 0s 1ms/step - loss: 0.0524 - acc: 0.9873 - val_loss: 0.1081 - val_acc: 0.9639\n",
      "Epoch 34/50\n",
      "139/139 [==============================] - 0s 1ms/step - loss: 0.0490 - acc: 0.9873 - val_loss: 0.1147 - val_acc: 0.9711\n",
      "Epoch 35/50\n",
      "139/139 [==============================] - 0s 1ms/step - loss: 0.0472 - acc: 0.9891 - val_loss: 0.0920 - val_acc: 0.9856\n",
      "Epoch 36/50\n",
      "139/139 [==============================] - 0s 1ms/step - loss: 0.0461 - acc: 0.9873 - val_loss: 0.1009 - val_acc: 0.9675\n",
      "Epoch 37/50\n",
      "139/139 [==============================] - 0s 2ms/step - loss: 0.0447 - acc: 0.9882 - val_loss: 0.0945 - val_acc: 0.9711\n",
      "Epoch 38/50\n",
      "139/139 [==============================] - 0s 1ms/step - loss: 0.0418 - acc: 0.9919 - val_loss: 0.0947 - val_acc: 0.9711\n",
      "Epoch 39/50\n",
      "139/139 [==============================] - 0s 1ms/step - loss: 0.0405 - acc: 0.9891 - val_loss: 0.0878 - val_acc: 0.9783\n",
      "Epoch 40/50\n",
      "139/139 [==============================] - 0s 2ms/step - loss: 0.0366 - acc: 0.9919 - val_loss: 0.0933 - val_acc: 0.9675\n",
      "Epoch 41/50\n",
      "139/139 [==============================] - 0s 1ms/step - loss: 0.0345 - acc: 0.9937 - val_loss: 0.0846 - val_acc: 0.9819\n",
      "Epoch 42/50\n",
      "139/139 [==============================] - 0s 1ms/step - loss: 0.0328 - acc: 0.9937 - val_loss: 0.0837 - val_acc: 0.9783\n",
      "Epoch 43/50\n",
      "139/139 [==============================] - 0s 1ms/step - loss: 0.0316 - acc: 0.9928 - val_loss: 0.0785 - val_acc: 0.9819\n",
      "Epoch 44/50\n",
      "139/139 [==============================] - 0s 1ms/step - loss: 0.0302 - acc: 0.9937 - val_loss: 0.0848 - val_acc: 0.9747\n",
      "Epoch 45/50\n",
      "139/139 [==============================] - 0s 1ms/step - loss: 0.0289 - acc: 0.9946 - val_loss: 0.0861 - val_acc: 0.9711\n",
      "Epoch 46/50\n",
      "139/139 [==============================] - 0s 1ms/step - loss: 0.0279 - acc: 0.9937 - val_loss: 0.0734 - val_acc: 0.9928\n",
      "Epoch 47/50\n",
      "139/139 [==============================] - 0s 1ms/step - loss: 0.0249 - acc: 0.9973 - val_loss: 0.0866 - val_acc: 0.9711\n",
      "Epoch 48/50\n",
      "139/139 [==============================] - 0s 1ms/step - loss: 0.0234 - acc: 0.9964 - val_loss: 0.0701 - val_acc: 0.9892\n",
      "Epoch 49/50\n",
      "139/139 [==============================] - 0s 1ms/step - loss: 0.0229 - acc: 0.9964 - val_loss: 0.0772 - val_acc: 0.9819\n",
      "Epoch 50/50\n",
      "139/139 [==============================] - 0s 1ms/step - loss: 0.0218 - acc: 0.9973 - val_loss: 0.0733 - val_acc: 0.9892\n"
     ]
    }
   ],
   "source": [
    "# 모델 훈련시키기 \n",
    "history = model.fit(X_train, y_train, batch_size = 8, epochs = 50, \n",
    "                    verbose = 1, validation_split = 0.2)"
   ]
  },
  {
   "cell_type": "code",
   "execution_count": 29,
   "metadata": {},
   "outputs": [
    {
     "name": "stdout",
     "output_type": "stream",
     "text": [
      "11/11 [==============================] - 0s 1ms/step - loss: 0.0691 - acc: 0.9769\n",
      "Test Score: 0.0690818652510643\n",
      "Test Accuracy: 0.9768785834312439\n"
     ]
    }
   ],
   "source": [
    "# 모델 평가 (정확도)\n",
    "score = model.evaluate(X_test, y_test, verbose = 1)\n",
    "print(\"Test Score:\", score[0])\n",
    "print(\"Test Accuracy:\", score[1])"
   ]
  },
  {
   "cell_type": "code",
   "execution_count": null,
   "metadata": {},
   "outputs": [],
   "source": []
  }
 ],
 "metadata": {
  "kernelspec": {
   "display_name": "Python 3",
   "language": "python",
   "name": "python3"
  },
  "language_info": {
   "codemirror_mode": {
    "name": "ipython",
    "version": 3
   },
   "file_extension": ".py",
   "mimetype": "text/x-python",
   "name": "python",
   "nbconvert_exporter": "python",
   "pygments_lexer": "ipython3",
   "version": "3.8.5"
  }
 },
 "nbformat": 4,
 "nbformat_minor": 4
}
